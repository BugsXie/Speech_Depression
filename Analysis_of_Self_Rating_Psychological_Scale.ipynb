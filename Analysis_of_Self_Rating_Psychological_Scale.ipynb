{
 "cells": [
  {
   "cell_type": "code",
   "execution_count": 3,
   "metadata": {},
   "outputs": [],
   "source": [
    "import numpy as np\n",
    "import pandas as pd\n",
    "from scipy import stats"
   ]
  },
  {
   "cell_type": "code",
   "execution_count": 4,
   "metadata": {},
   "outputs": [
    {
     "data": {
      "text/html": [
       "<div>\n",
       "<style scoped>\n",
       "    .dataframe tbody tr th:only-of-type {\n",
       "        vertical-align: middle;\n",
       "    }\n",
       "\n",
       "    .dataframe tbody tr th {\n",
       "        vertical-align: top;\n",
       "    }\n",
       "\n",
       "    .dataframe thead th {\n",
       "        text-align: right;\n",
       "    }\n",
       "</style>\n",
       "<table border=\"1\" class=\"dataframe\">\n",
       "  <thead>\n",
       "    <tr style=\"text-align: right;\">\n",
       "      <th></th>\n",
       "      <th>分组</th>\n",
       "      <th>抑郁得分</th>\n",
       "      <th>焦虑得分</th>\n",
       "      <th>压力得分</th>\n",
       "      <th>失眠得分</th>\n",
       "      <th>自杀得分</th>\n",
       "      <th>Unnamed: 6</th>\n",
       "    </tr>\n",
       "  </thead>\n",
       "  <tbody>\n",
       "    <tr>\n",
       "      <th>0</th>\n",
       "      <td>0</td>\n",
       "      <td>0</td>\n",
       "      <td>6</td>\n",
       "      <td>16</td>\n",
       "      <td>4</td>\n",
       "      <td>0</td>\n",
       "      <td>18.0</td>\n",
       "    </tr>\n",
       "    <tr>\n",
       "      <th>1</th>\n",
       "      <td>0</td>\n",
       "      <td>0</td>\n",
       "      <td>0</td>\n",
       "      <td>7</td>\n",
       "      <td>1</td>\n",
       "      <td>0</td>\n",
       "      <td>NaN</td>\n",
       "    </tr>\n",
       "    <tr>\n",
       "      <th>2</th>\n",
       "      <td>0</td>\n",
       "      <td>0</td>\n",
       "      <td>0</td>\n",
       "      <td>28</td>\n",
       "      <td>4</td>\n",
       "      <td>0</td>\n",
       "      <td>NaN</td>\n",
       "    </tr>\n",
       "    <tr>\n",
       "      <th>3</th>\n",
       "      <td>0</td>\n",
       "      <td>0</td>\n",
       "      <td>0</td>\n",
       "      <td>28</td>\n",
       "      <td>2</td>\n",
       "      <td>0</td>\n",
       "      <td>NaN</td>\n",
       "    </tr>\n",
       "    <tr>\n",
       "      <th>4</th>\n",
       "      <td>0</td>\n",
       "      <td>0</td>\n",
       "      <td>0</td>\n",
       "      <td>31</td>\n",
       "      <td>2</td>\n",
       "      <td>0</td>\n",
       "      <td>NaN</td>\n",
       "    </tr>\n",
       "    <tr>\n",
       "      <th>...</th>\n",
       "      <td>...</td>\n",
       "      <td>...</td>\n",
       "      <td>...</td>\n",
       "      <td>...</td>\n",
       "      <td>...</td>\n",
       "      <td>...</td>\n",
       "      <td>...</td>\n",
       "    </tr>\n",
       "    <tr>\n",
       "      <th>117</th>\n",
       "      <td>1</td>\n",
       "      <td>13</td>\n",
       "      <td>8</td>\n",
       "      <td>29</td>\n",
       "      <td>8</td>\n",
       "      <td>15</td>\n",
       "      <td>6.0</td>\n",
       "    </tr>\n",
       "    <tr>\n",
       "      <th>118</th>\n",
       "      <td>1</td>\n",
       "      <td>15</td>\n",
       "      <td>5</td>\n",
       "      <td>24</td>\n",
       "      <td>7</td>\n",
       "      <td>0</td>\n",
       "      <td>NaN</td>\n",
       "    </tr>\n",
       "    <tr>\n",
       "      <th>119</th>\n",
       "      <td>1</td>\n",
       "      <td>17</td>\n",
       "      <td>18</td>\n",
       "      <td>34</td>\n",
       "      <td>15</td>\n",
       "      <td>27</td>\n",
       "      <td>NaN</td>\n",
       "    </tr>\n",
       "    <tr>\n",
       "      <th>120</th>\n",
       "      <td>1</td>\n",
       "      <td>18</td>\n",
       "      <td>6</td>\n",
       "      <td>40</td>\n",
       "      <td>10</td>\n",
       "      <td>0</td>\n",
       "      <td>NaN</td>\n",
       "    </tr>\n",
       "    <tr>\n",
       "      <th>121</th>\n",
       "      <td>1</td>\n",
       "      <td>24</td>\n",
       "      <td>9</td>\n",
       "      <td>16</td>\n",
       "      <td>4</td>\n",
       "      <td>0</td>\n",
       "      <td>NaN</td>\n",
       "    </tr>\n",
       "  </tbody>\n",
       "</table>\n",
       "<p>122 rows × 7 columns</p>\n",
       "</div>"
      ],
      "text/plain": [
       "     分组  抑郁得分  焦虑得分  压力得分  失眠得分  自杀得分  Unnamed: 6\n",
       "0     0     0     6    16     4     0        18.0\n",
       "1     0     0     0     7     1     0         NaN\n",
       "2     0     0     0    28     4     0         NaN\n",
       "3     0     0     0    28     2     0         NaN\n",
       "4     0     0     0    31     2     0         NaN\n",
       "..   ..   ...   ...   ...   ...   ...         ...\n",
       "117   1    13     8    29     8    15         6.0\n",
       "118   1    15     5    24     7     0         NaN\n",
       "119   1    17    18    34    15    27         NaN\n",
       "120   1    18     6    40    10     0         NaN\n",
       "121   1    24     9    16     4     0         NaN\n",
       "\n",
       "[122 rows x 7 columns]"
      ]
     },
     "execution_count": 4,
     "metadata": {},
     "output_type": "execute_result"
    }
   ],
   "source": [
    "df = pd.read_excel(r'D:\\Projects\\Speech_Depression\\data\\others\\量表分析.xlsx')\n",
    "df"
   ]
  },
  {
   "cell_type": "code",
   "execution_count": 5,
   "metadata": {},
   "outputs": [
    {
     "name": "stdout",
     "output_type": "stream",
     "text": [
      "group0_phq9_Mean: 1.5476190476190477, group1_phq9_Mean:7.525\n",
      "group0_phq9_Std: 1.4849222851041977, group1_phq9_Std:3.264597208953788\n",
      "T-statistic: 11.253838671125475, P-value: 1.694330025952696e-20\n"
     ]
    }
   ],
   "source": [
    "group0_phq9 = df[df['分组'] == 0]['抑郁得分']\n",
    "group1_phq9 = df[df['分组'] == 1]['抑郁得分']\n",
    "t_stat, p_value = stats.ttest_ind(group1_phq9, group0_phq9)\n",
    "\n",
    "print(f\"group0_phq9_Mean: {group0_phq9.mean()}, group1_phq9_Mean:{group1_phq9.mean()}\")\n",
    "print(f\"group0_phq9_Std: {group0_phq9.std()}, group1_phq9_Std:{group1_phq9.std()}\")\n",
    "print(f\"T-statistic: {t_stat}, P-value: {p_value}\")"
   ]
  },
  {
   "cell_type": "code",
   "execution_count": 6,
   "metadata": {},
   "outputs": [
    {
     "name": "stdout",
     "output_type": "stream",
     "text": [
      "group0_gad7_Mean: 1.5952380952380953, group1_gad7_Mean:4.4375\n",
      "group0_gad7_Std: 2.2745626629709834, group1_gad7_Std:3.225074820052507\n",
      "T-statistic: 5.081884629638969, P-value: 1.389865106134168e-06\n"
     ]
    }
   ],
   "source": [
    "group0_gad7 = df[df['分组'] == 0]['焦虑得分']\n",
    "group1_gad7 = df[df['分组'] == 1]['焦虑得分']\n",
    "\n",
    "t_stat, p_value = stats.ttest_ind(group1_gad7, group0_gad7)\n",
    "print(f\"group0_gad7_Mean: {group0_gad7.mean()}, group1_gad7_Mean:{group1_gad7.mean()}\")\n",
    "print(f\"group0_gad7_Std: {group0_gad7.std()}, group1_gad7_Std:{group1_gad7.std()}\")\n",
    "print(f\"T-statistic: {t_stat}, P-value: {p_value}\")"
   ]
  },
  {
   "cell_type": "code",
   "execution_count": 7,
   "metadata": {},
   "outputs": [
    {
     "name": "stdout",
     "output_type": "stream",
     "text": [
      "group0_pss_Mean: 18.80952380952381, group1_pss_Mean:23.9625\n",
      "group0_pss_Std: 8.308790805271292, group1_pss_Std:8.115376481903843\n",
      "T-statistic: 3.3051392960185177, P-value: 0.0012521084965779752\n"
     ]
    }
   ],
   "source": [
    "group0_pss = df[df['分组'] == 0]['压力得分']\n",
    "group1_pss = df[df['分组'] == 1]['压力得分']\n",
    "\n",
    "t_stat, p_value = stats.ttest_ind(group1_pss, group0_pss)\n",
    "print(f\"group0_pss_Mean: {group0_pss.mean()}, group1_pss_Mean:{group1_pss.mean()}\")\n",
    "print(f\"group0_pss_Std: {group0_pss.std()}, group1_pss_Std:{group1_pss.std()}\")\n",
    "print(f\"T-statistic: {t_stat}, P-value: {p_value}\")"
   ]
  },
  {
   "cell_type": "code",
   "execution_count": 8,
   "metadata": {},
   "outputs": [
    {
     "name": "stdout",
     "output_type": "stream",
     "text": [
      "group0_isi_Mean: 2.3095238095238093, group1_isi_Mean:5.575\n",
      "group0_isi_Std: 2.3320470986133595, group1_isi_Std:4.485631067748368\n",
      "T-statistic: 4.409453047832244, P-value: 2.2726727840772514e-05\n"
     ]
    }
   ],
   "source": [
    "group0_isi = df[df['分组'] == 0]['失眠得分']\n",
    "group1_isi = df[df['分组'] == 1]['失眠得分']\n",
    "\n",
    "t_stat, p_value = stats.ttest_ind(group1_isi, group0_isi)\n",
    "print(f\"group0_isi_Mean: {group0_isi.mean()}, group1_isi_Mean:{group1_isi.mean()}\")\n",
    "print(f\"group0_isi_Std: {group0_isi.std()}, group1_isi_Std:{group1_isi.std()}\")\n",
    "print(f\"T-statistic: {t_stat}, P-value: {p_value}\")"
   ]
  },
  {
   "cell_type": "code",
   "execution_count": 9,
   "metadata": {},
   "outputs": [
    {
     "name": "stdout",
     "output_type": "stream",
     "text": [
      "group0_bss_Mean: 0.35714285714285715, group1_bss_Mean:1.875\n",
      "group0_bss_Std: 1.6501504524374262, group1_bss_Std:6.063743673818357\n",
      "T-statistic: 1.5887929104569014, P-value: 0.1147384888448673\n"
     ]
    }
   ],
   "source": [
    "group0_bss = df[df['分组'] == 0]['自杀得分']\n",
    "group1_bss = df[df['分组'] == 1]['自杀得分']\n",
    "\n",
    "t_stat, p_value = stats.ttest_ind(group1_bss, group0_bss)\n",
    "print(f\"group0_bss_Mean: {group0_bss.mean()}, group1_bss_Mean:{group1_bss.mean()}\")\n",
    "print(f\"group0_bss_Std: {group0_bss.std()}, group1_bss_Std:{group1_bss.std()}\")\n",
    "print(f\"T-statistic: {t_stat}, P-value: {p_value}\")"
   ]
  },
  {
   "cell_type": "code",
   "execution_count": null,
   "metadata": {},
   "outputs": [],
   "source": []
  }
 ],
 "metadata": {
  "kernelspec": {
   "display_name": "speech_Depression",
   "language": "python",
   "name": "python3"
  },
  "language_info": {
   "codemirror_mode": {
    "name": "ipython",
    "version": 3
   },
   "file_extension": ".py",
   "mimetype": "text/x-python",
   "name": "python",
   "nbconvert_exporter": "python",
   "pygments_lexer": "ipython3",
   "version": "3.10.14"
  }
 },
 "nbformat": 4,
 "nbformat_minor": 2
}
