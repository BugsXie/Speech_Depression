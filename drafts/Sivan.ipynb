{
 "cells": [
  {
   "cell_type": "code",
   "execution_count": 4,
   "metadata": {},
   "outputs": [],
   "source": [
    "import csv\n",
    "\n",
    "# 打开CSV文件，指定GBK编码\n",
    "with open(r'D:\\Projects\\Speech_Depression\\drafts\\672经纬度.csv', newline='', encoding='GBK') as csvfile:\n",
    "    # 创建CSV读取器\n",
    "    reader = csv.reader(csvfile)\n",
    "    # 读取特定列的数据\n",
    "    column_1 = [row[3] for row in reader]\n",
    "\n"
   ]
  },
  {
   "cell_type": "code",
   "execution_count": 5,
   "metadata": {},
   "outputs": [],
   "source": [
    "import csv\n",
    "\n",
    "# 打开CSV文件，指定GBK编码\n",
    "with open(r'D:\\Projects\\Speech_Depression\\drafts\\672经纬度.csv', newline='', encoding='GBK') as csvfile:\n",
    "    # 创建CSV读取器\n",
    "    reader = csv.reader(csvfile)\n",
    "    # 读取特定列的数据    \n",
    "    column_2 = [row[4] for row in reader]\n"
   ]
  },
  {
   "cell_type": "code",
   "execution_count": 7,
   "metadata": {},
   "outputs": [
    {
     "data": {
      "text/plain": [
       "673"
      ]
     },
     "execution_count": 7,
     "metadata": {},
     "output_type": "execute_result"
    }
   ],
   "source": [
    "len(column_2)"
   ]
  },
  {
   "cell_type": "code",
   "execution_count": 8,
   "metadata": {},
   "outputs": [
    {
     "data": {
      "text/plain": [
       "<zip at 0x2424b8b7dc0>"
      ]
     },
     "execution_count": 8,
     "metadata": {},
     "output_type": "execute_result"
    }
   ],
   "source": [
    "combined_list = zip(column_1, column_2)\n",
    "combined_list"
   ]
  },
  {
   "cell_type": "code",
   "execution_count": 9,
   "metadata": {},
   "outputs": [],
   "source": [
    "# 将拼接后的结果写入txt文件，逗号分隔\n",
    "with open('经纬_673.txt', 'w', encoding='utf-8') as txtfile:\n",
    "    for item in combined_list:\n",
    "        txtfile.write(','.join(map(str, item)) + ',' + '\\n')"
   ]
  },
  {
   "cell_type": "code",
   "execution_count": 9,
   "metadata": {},
   "outputs": [],
   "source": [
    "# 将列数据写入txt文件，逗号分隔\n",
    "with open('population.txt', 'w', encoding='utf-8') as txtfile:\n",
    "    # 使用逗号分隔写入每个元素\n",
    "    txtfile.write(','.join(column_data.replace('/', '-')))\n"
   ]
  },
  {
   "cell_type": "code",
   "execution_count": 3,
   "metadata": {},
   "outputs": [],
   "source": [
    "# 将列数据写入txt文件，逗号分隔，每个值前后加上引号\n",
    "with open('本次确诊日期.txt', 'w', encoding='utf-8') as txtfile:\n",
    "    # 遍历列数据，将每个值前后加上引号，然后用逗号连接\n",
    "    formatted_data = ','.join(['\"{}\"'.format(value.replace('/', '-')) for value in column_1])\n",
    "    # 写入到文件中\n",
    "    txtfile.write(formatted_data)\n"
   ]
  }
 ],
 "metadata": {
  "kernelspec": {
   "display_name": "speech_Depression",
   "language": "python",
   "name": "python3"
  },
  "language_info": {
   "codemirror_mode": {
    "name": "ipython",
    "version": 3
   },
   "file_extension": ".py",
   "mimetype": "text/x-python",
   "name": "python",
   "nbconvert_exporter": "python",
   "pygments_lexer": "ipython3",
   "version": "3.10.14"
  }
 },
 "nbformat": 4,
 "nbformat_minor": 2
}
